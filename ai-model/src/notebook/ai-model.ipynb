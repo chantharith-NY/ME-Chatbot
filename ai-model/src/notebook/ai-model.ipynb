{
 "cells": [
  {
   "cell_type": "markdown",
   "metadata": {},
   "source": [
    "### 1. Install Dependencies\n",
    "You'll need:\n",
    "\n",
    "```pip install langchain langchain-community langchain-ollama beautifulsoup4 requests chromadb unstructured```"
   ]
  },
  {
   "cell_type": "code",
   "execution_count": null,
   "metadata": {},
   "outputs": [
    {
     "name": "stdout",
     "output_type": "stream",
     "text": [
      "Requirement already satisfied: langchain in /Users/nychanthrith/Documents/Chantharith/ME-Chatbot/venv/lib/python3.12/site-packages (0.3.21)\n",
      "Requirement already satisfied: langchain-community in /Users/nychanthrith/Documents/Chantharith/ME-Chatbot/venv/lib/python3.12/site-packages (0.3.20)\n",
      "Requirement already satisfied: langchain-ollama in /Users/nychanthrith/Documents/Chantharith/ME-Chatbot/venv/lib/python3.12/site-packages (0.3.0)\n",
      "Requirement already satisfied: beautifulsoup4 in /Users/nychanthrith/Documents/Chantharith/ME-Chatbot/venv/lib/python3.12/site-packages (4.13.3)\n",
      "Requirement already satisfied: requests in /Users/nychanthrith/Documents/Chantharith/ME-Chatbot/venv/lib/python3.12/site-packages (2.32.3)\n",
      "Requirement already satisfied: chromadb in /Users/nychanthrith/Documents/Chantharith/ME-Chatbot/venv/lib/python3.12/site-packages (0.6.3)\n",
      "Requirement already satisfied: unstructured in /Users/nychanthrith/Documents/Chantharith/ME-Chatbot/venv/lib/python3.12/site-packages (0.17.2)\n",
      "Requirement already satisfied: langchain-core<1.0.0,>=0.3.45 in /Users/nychanthrith/Documents/Chantharith/ME-Chatbot/venv/lib/python3.12/site-packages (from langchain) (0.3.49)\n",
      "Requirement already satisfied: langchain-text-splitters<1.0.0,>=0.3.7 in /Users/nychanthrith/Documents/Chantharith/ME-Chatbot/venv/lib/python3.12/site-packages (from langchain) (0.3.7)\n",
      "Requirement already satisfied: langsmith<0.4,>=0.1.17 in /Users/nychanthrith/Documents/Chantharith/ME-Chatbot/venv/lib/python3.12/site-packages (from langchain) (0.3.15)\n",
      "Requirement already satisfied: pydantic<3.0.0,>=2.7.4 in /Users/nychanthrith/Documents/Chantharith/ME-Chatbot/venv/lib/python3.12/site-packages (from langchain) (2.10.6)\n",
      "Requirement already satisfied: SQLAlchemy<3,>=1.4 in /Users/nychanthrith/Documents/Chantharith/ME-Chatbot/venv/lib/python3.12/site-packages (from langchain) (2.0.39)\n",
      "Requirement already satisfied: PyYAML>=5.3 in /Users/nychanthrith/Documents/Chantharith/ME-Chatbot/venv/lib/python3.12/site-packages (from langchain) (6.0.2)\n",
      "Requirement already satisfied: aiohttp<4.0.0,>=3.8.3 in /Users/nychanthrith/Documents/Chantharith/ME-Chatbot/venv/lib/python3.12/site-packages (from langchain-community) (3.11.13)\n",
      "Requirement already satisfied: tenacity!=8.4.0,<10,>=8.1.0 in /Users/nychanthrith/Documents/Chantharith/ME-Chatbot/venv/lib/python3.12/site-packages (from langchain-community) (9.0.0)\n",
      "Requirement already satisfied: dataclasses-json<0.7,>=0.5.7 in /Users/nychanthrith/Documents/Chantharith/ME-Chatbot/venv/lib/python3.12/site-packages (from langchain-community) (0.6.7)\n",
      "Requirement already satisfied: pydantic-settings<3.0.0,>=2.4.0 in /Users/nychanthrith/Documents/Chantharith/ME-Chatbot/venv/lib/python3.12/site-packages (from langchain-community) (2.8.1)\n",
      "Requirement already satisfied: httpx-sse<1.0.0,>=0.4.0 in /Users/nychanthrith/Documents/Chantharith/ME-Chatbot/venv/lib/python3.12/site-packages (from langchain-community) (0.4.0)\n",
      "Requirement already satisfied: numpy<3,>=1.26.2 in /Users/nychanthrith/Documents/Chantharith/ME-Chatbot/venv/lib/python3.12/site-packages (from langchain-community) (2.2.4)\n",
      "Requirement already satisfied: ollama<1,>=0.4.4 in /Users/nychanthrith/Documents/Chantharith/ME-Chatbot/venv/lib/python3.12/site-packages (from langchain-ollama) (0.4.7)\n",
      "Requirement already satisfied: soupsieve>1.2 in /Users/nychanthrith/Documents/Chantharith/ME-Chatbot/venv/lib/python3.12/site-packages (from beautifulsoup4) (2.6)\n",
      "Requirement already satisfied: typing-extensions>=4.0.0 in /Users/nychanthrith/Documents/Chantharith/ME-Chatbot/venv/lib/python3.12/site-packages (from beautifulsoup4) (4.12.2)\n",
      "Requirement already satisfied: charset-normalizer<4,>=2 in /Users/nychanthrith/Documents/Chantharith/ME-Chatbot/venv/lib/python3.12/site-packages (from requests) (3.4.1)\n",
      "Requirement already satisfied: idna<4,>=2.5 in /Users/nychanthrith/Documents/Chantharith/ME-Chatbot/venv/lib/python3.12/site-packages (from requests) (3.10)\n",
      "Requirement already satisfied: urllib3<3,>=1.21.1 in /Users/nychanthrith/Documents/Chantharith/ME-Chatbot/venv/lib/python3.12/site-packages (from requests) (2.3.0)\n",
      "Requirement already satisfied: certifi>=2017.4.17 in /Users/nychanthrith/Documents/Chantharith/ME-Chatbot/venv/lib/python3.12/site-packages (from requests) (2025.1.31)\n",
      "Requirement already satisfied: build>=1.0.3 in /Users/nychanthrith/Documents/Chantharith/ME-Chatbot/venv/lib/python3.12/site-packages (from chromadb) (1.2.2.post1)\n",
      "Requirement already satisfied: chroma-hnswlib==0.7.6 in /Users/nychanthrith/Documents/Chantharith/ME-Chatbot/venv/lib/python3.12/site-packages (from chromadb) (0.7.6)\n",
      "Requirement already satisfied: fastapi>=0.95.2 in /Users/nychanthrith/Documents/Chantharith/ME-Chatbot/venv/lib/python3.12/site-packages (from chromadb) (0.115.11)\n",
      "Requirement already satisfied: uvicorn[standard]>=0.18.3 in /Users/nychanthrith/Documents/Chantharith/ME-Chatbot/venv/lib/python3.12/site-packages (from chromadb) (0.34.0)\n",
      "Requirement already satisfied: posthog>=2.4.0 in /Users/nychanthrith/Documents/Chantharith/ME-Chatbot/venv/lib/python3.12/site-packages (from chromadb) (3.23.0)\n",
      "Requirement already satisfied: onnxruntime>=1.14.1 in /Users/nychanthrith/Documents/Chantharith/ME-Chatbot/venv/lib/python3.12/site-packages (from chromadb) (1.21.0)\n",
      "Requirement already satisfied: opentelemetry-api>=1.2.0 in /Users/nychanthrith/Documents/Chantharith/ME-Chatbot/venv/lib/python3.12/site-packages (from chromadb) (1.31.1)\n",
      "Requirement already satisfied: opentelemetry-exporter-otlp-proto-grpc>=1.2.0 in /Users/nychanthrith/Documents/Chantharith/ME-Chatbot/venv/lib/python3.12/site-packages (from chromadb) (1.31.1)\n",
      "Requirement already satisfied: opentelemetry-instrumentation-fastapi>=0.41b0 in /Users/nychanthrith/Documents/Chantharith/ME-Chatbot/venv/lib/python3.12/site-packages (from chromadb) (0.52b1)\n",
      "Requirement already satisfied: opentelemetry-sdk>=1.2.0 in /Users/nychanthrith/Documents/Chantharith/ME-Chatbot/venv/lib/python3.12/site-packages (from chromadb) (1.31.1)\n",
      "Requirement already satisfied: tokenizers>=0.13.2 in /Users/nychanthrith/Documents/Chantharith/ME-Chatbot/venv/lib/python3.12/site-packages (from chromadb) (0.21.0)\n",
      "Requirement already satisfied: pypika>=0.48.9 in /Users/nychanthrith/Documents/Chantharith/ME-Chatbot/venv/lib/python3.12/site-packages (from chromadb) (0.48.9)\n",
      "Requirement already satisfied: tqdm>=4.65.0 in /Users/nychanthrith/Documents/Chantharith/ME-Chatbot/venv/lib/python3.12/site-packages (from chromadb) (4.67.1)\n",
      "Requirement already satisfied: overrides>=7.3.1 in /Users/nychanthrith/Documents/Chantharith/ME-Chatbot/venv/lib/python3.12/site-packages (from chromadb) (7.7.0)\n",
      "Requirement already satisfied: importlib-resources in /Users/nychanthrith/Documents/Chantharith/ME-Chatbot/venv/lib/python3.12/site-packages (from chromadb) (6.5.2)\n",
      "Requirement already satisfied: grpcio>=1.58.0 in /Users/nychanthrith/Documents/Chantharith/ME-Chatbot/venv/lib/python3.12/site-packages (from chromadb) (1.71.0)\n",
      "Requirement already satisfied: bcrypt>=4.0.1 in /Users/nychanthrith/Documents/Chantharith/ME-Chatbot/venv/lib/python3.12/site-packages (from chromadb) (4.3.0)\n",
      "Requirement already satisfied: typer>=0.9.0 in /Users/nychanthrith/Documents/Chantharith/ME-Chatbot/venv/lib/python3.12/site-packages (from chromadb) (0.15.2)\n",
      "Requirement already satisfied: kubernetes>=28.1.0 in /Users/nychanthrith/Documents/Chantharith/ME-Chatbot/venv/lib/python3.12/site-packages (from chromadb) (32.0.1)\n",
      "Requirement already satisfied: mmh3>=4.0.1 in /Users/nychanthrith/Documents/Chantharith/ME-Chatbot/venv/lib/python3.12/site-packages (from chromadb) (5.1.0)\n",
      "Requirement already satisfied: orjson>=3.9.12 in /Users/nychanthrith/Documents/Chantharith/ME-Chatbot/venv/lib/python3.12/site-packages (from chromadb) (3.10.15)\n",
      "Requirement already satisfied: httpx>=0.27.0 in /Users/nychanthrith/Documents/Chantharith/ME-Chatbot/venv/lib/python3.12/site-packages (from chromadb) (0.28.1)\n",
      "Requirement already satisfied: rich>=10.11.0 in /Users/nychanthrith/Documents/Chantharith/ME-Chatbot/venv/lib/python3.12/site-packages (from chromadb) (13.9.4)\n",
      "Requirement already satisfied: chardet in /Users/nychanthrith/Documents/Chantharith/ME-Chatbot/venv/lib/python3.12/site-packages (from unstructured) (5.2.0)\n",
      "Requirement already satisfied: filetype in /Users/nychanthrith/Documents/Chantharith/ME-Chatbot/venv/lib/python3.12/site-packages (from unstructured) (1.2.0)\n",
      "Requirement already satisfied: python-magic in /Users/nychanthrith/Documents/Chantharith/ME-Chatbot/venv/lib/python3.12/site-packages (from unstructured) (0.4.27)\n",
      "Requirement already satisfied: lxml in /Users/nychanthrith/Documents/Chantharith/ME-Chatbot/venv/lib/python3.12/site-packages (from unstructured) (5.3.1)\n",
      "Requirement already satisfied: nltk in /Users/nychanthrith/Documents/Chantharith/ME-Chatbot/venv/lib/python3.12/site-packages (from unstructured) (3.9.1)\n",
      "Requirement already satisfied: emoji in /Users/nychanthrith/Documents/Chantharith/ME-Chatbot/venv/lib/python3.12/site-packages (from unstructured) (2.14.1)\n",
      "Requirement already satisfied: python-iso639 in /Users/nychanthrith/Documents/Chantharith/ME-Chatbot/venv/lib/python3.12/site-packages (from unstructured) (2025.2.18)\n",
      "Requirement already satisfied: langdetect in /Users/nychanthrith/Documents/Chantharith/ME-Chatbot/venv/lib/python3.12/site-packages (from unstructured) (1.0.9)\n",
      "Requirement already satisfied: rapidfuzz in /Users/nychanthrith/Documents/Chantharith/ME-Chatbot/venv/lib/python3.12/site-packages (from unstructured) (3.12.2)\n",
      "Requirement already satisfied: backoff in /Users/nychanthrith/Documents/Chantharith/ME-Chatbot/venv/lib/python3.12/site-packages (from unstructured) (2.2.1)\n",
      "Requirement already satisfied: unstructured-client in /Users/nychanthrith/Documents/Chantharith/ME-Chatbot/venv/lib/python3.12/site-packages (from unstructured) (0.31.4)\n",
      "Requirement already satisfied: wrapt in /Users/nychanthrith/Documents/Chantharith/ME-Chatbot/venv/lib/python3.12/site-packages (from unstructured) (1.17.2)\n",
      "Requirement already satisfied: psutil in /Users/nychanthrith/Documents/Chantharith/ME-Chatbot/venv/lib/python3.12/site-packages (from unstructured) (7.0.0)\n",
      "Requirement already satisfied: python-oxmsg in /Users/nychanthrith/Documents/Chantharith/ME-Chatbot/venv/lib/python3.12/site-packages (from unstructured) (0.0.2)\n",
      "Requirement already satisfied: html5lib in /Users/nychanthrith/Documents/Chantharith/ME-Chatbot/venv/lib/python3.12/site-packages (from unstructured) (1.1)\n",
      "Requirement already satisfied: aiohappyeyeballs>=2.3.0 in /Users/nychanthrith/Documents/Chantharith/ME-Chatbot/venv/lib/python3.12/site-packages (from aiohttp<4.0.0,>=3.8.3->langchain-community) (2.5.0)\n",
      "Requirement already satisfied: aiosignal>=1.1.2 in /Users/nychanthrith/Documents/Chantharith/ME-Chatbot/venv/lib/python3.12/site-packages (from aiohttp<4.0.0,>=3.8.3->langchain-community) (1.3.2)\n",
      "Requirement already satisfied: attrs>=17.3.0 in /Users/nychanthrith/Documents/Chantharith/ME-Chatbot/venv/lib/python3.12/site-packages (from aiohttp<4.0.0,>=3.8.3->langchain-community) (25.1.0)\n",
      "Requirement already satisfied: frozenlist>=1.1.1 in /Users/nychanthrith/Documents/Chantharith/ME-Chatbot/venv/lib/python3.12/site-packages (from aiohttp<4.0.0,>=3.8.3->langchain-community) (1.5.0)\n",
      "Requirement already satisfied: multidict<7.0,>=4.5 in /Users/nychanthrith/Documents/Chantharith/ME-Chatbot/venv/lib/python3.12/site-packages (from aiohttp<4.0.0,>=3.8.3->langchain-community) (6.1.0)\n",
      "Requirement already satisfied: propcache>=0.2.0 in /Users/nychanthrith/Documents/Chantharith/ME-Chatbot/venv/lib/python3.12/site-packages (from aiohttp<4.0.0,>=3.8.3->langchain-community) (0.3.0)\n",
      "Requirement already satisfied: yarl<2.0,>=1.17.0 in /Users/nychanthrith/Documents/Chantharith/ME-Chatbot/venv/lib/python3.12/site-packages (from aiohttp<4.0.0,>=3.8.3->langchain-community) (1.18.3)\n",
      "Requirement already satisfied: packaging>=19.1 in /Users/nychanthrith/Documents/Chantharith/ME-Chatbot/venv/lib/python3.12/site-packages (from build>=1.0.3->chromadb) (24.2)\n",
      "Requirement already satisfied: pyproject_hooks in /Users/nychanthrith/Documents/Chantharith/ME-Chatbot/venv/lib/python3.12/site-packages (from build>=1.0.3->chromadb) (1.2.0)\n",
      "Requirement already satisfied: marshmallow<4.0.0,>=3.18.0 in /Users/nychanthrith/Documents/Chantharith/ME-Chatbot/venv/lib/python3.12/site-packages (from dataclasses-json<0.7,>=0.5.7->langchain-community) (3.26.1)\n",
      "Requirement already satisfied: typing-inspect<1,>=0.4.0 in /Users/nychanthrith/Documents/Chantharith/ME-Chatbot/venv/lib/python3.12/site-packages (from dataclasses-json<0.7,>=0.5.7->langchain-community) (0.9.0)\n",
      "Requirement already satisfied: starlette<0.47.0,>=0.40.0 in /Users/nychanthrith/Documents/Chantharith/ME-Chatbot/venv/lib/python3.12/site-packages (from fastapi>=0.95.2->chromadb) (0.46.0)\n",
      "Requirement already satisfied: anyio in /Users/nychanthrith/Documents/Chantharith/ME-Chatbot/venv/lib/python3.12/site-packages (from httpx>=0.27.0->chromadb) (4.8.0)\n",
      "Requirement already satisfied: httpcore==1.* in /Users/nychanthrith/Documents/Chantharith/ME-Chatbot/venv/lib/python3.12/site-packages (from httpx>=0.27.0->chromadb) (1.0.7)\n",
      "Requirement already satisfied: h11<0.15,>=0.13 in /Users/nychanthrith/Documents/Chantharith/ME-Chatbot/venv/lib/python3.12/site-packages (from httpcore==1.*->httpx>=0.27.0->chromadb) (0.14.0)\n",
      "Requirement already satisfied: six>=1.9.0 in /Users/nychanthrith/Documents/Chantharith/ME-Chatbot/venv/lib/python3.12/site-packages (from kubernetes>=28.1.0->chromadb) (1.17.0)\n",
      "Requirement already satisfied: python-dateutil>=2.5.3 in /Users/nychanthrith/Documents/Chantharith/ME-Chatbot/venv/lib/python3.12/site-packages (from kubernetes>=28.1.0->chromadb) (2.9.0.post0)\n",
      "Requirement already satisfied: google-auth>=1.0.1 in /Users/nychanthrith/Documents/Chantharith/ME-Chatbot/venv/lib/python3.12/site-packages (from kubernetes>=28.1.0->chromadb) (2.38.0)\n",
      "Requirement already satisfied: websocket-client!=0.40.0,!=0.41.*,!=0.42.*,>=0.32.0 in /Users/nychanthrith/Documents/Chantharith/ME-Chatbot/venv/lib/python3.12/site-packages (from kubernetes>=28.1.0->chromadb) (1.8.0)\n",
      "Requirement already satisfied: requests-oauthlib in /Users/nychanthrith/Documents/Chantharith/ME-Chatbot/venv/lib/python3.12/site-packages (from kubernetes>=28.1.0->chromadb) (2.0.0)\n",
      "Requirement already satisfied: oauthlib>=3.2.2 in /Users/nychanthrith/Documents/Chantharith/ME-Chatbot/venv/lib/python3.12/site-packages (from kubernetes>=28.1.0->chromadb) (3.2.2)\n",
      "Requirement already satisfied: durationpy>=0.7 in /Users/nychanthrith/Documents/Chantharith/ME-Chatbot/venv/lib/python3.12/site-packages (from kubernetes>=28.1.0->chromadb) (0.9)\n",
      "Requirement already satisfied: jsonpatch<2.0,>=1.33 in /Users/nychanthrith/Documents/Chantharith/ME-Chatbot/venv/lib/python3.12/site-packages (from langchain-core<1.0.0,>=0.3.45->langchain) (1.33)\n",
      "Requirement already satisfied: requests-toolbelt<2.0.0,>=1.0.0 in /Users/nychanthrith/Documents/Chantharith/ME-Chatbot/venv/lib/python3.12/site-packages (from langsmith<0.4,>=0.1.17->langchain) (1.0.0)\n",
      "Requirement already satisfied: zstandard<0.24.0,>=0.23.0 in /Users/nychanthrith/Documents/Chantharith/ME-Chatbot/venv/lib/python3.12/site-packages (from langsmith<0.4,>=0.1.17->langchain) (0.23.0)\n",
      "Requirement already satisfied: coloredlogs in /Users/nychanthrith/Documents/Chantharith/ME-Chatbot/venv/lib/python3.12/site-packages (from onnxruntime>=1.14.1->chromadb) (15.0.1)\n",
      "Requirement already satisfied: flatbuffers in /Users/nychanthrith/Documents/Chantharith/ME-Chatbot/venv/lib/python3.12/site-packages (from onnxruntime>=1.14.1->chromadb) (25.2.10)\n",
      "Requirement already satisfied: protobuf in /Users/nychanthrith/Documents/Chantharith/ME-Chatbot/venv/lib/python3.12/site-packages (from onnxruntime>=1.14.1->chromadb) (5.29.4)\n",
      "Requirement already satisfied: sympy in /Users/nychanthrith/Documents/Chantharith/ME-Chatbot/venv/lib/python3.12/site-packages (from onnxruntime>=1.14.1->chromadb) (1.13.3)\n",
      "Requirement already satisfied: deprecated>=1.2.6 in /Users/nychanthrith/Documents/Chantharith/ME-Chatbot/venv/lib/python3.12/site-packages (from opentelemetry-api>=1.2.0->chromadb) (1.2.18)\n",
      "Requirement already satisfied: importlib-metadata<8.7.0,>=6.0 in /Users/nychanthrith/Documents/Chantharith/ME-Chatbot/venv/lib/python3.12/site-packages (from opentelemetry-api>=1.2.0->chromadb) (8.6.1)\n",
      "Requirement already satisfied: googleapis-common-protos~=1.52 in /Users/nychanthrith/Documents/Chantharith/ME-Chatbot/venv/lib/python3.12/site-packages (from opentelemetry-exporter-otlp-proto-grpc>=1.2.0->chromadb) (1.69.2)\n",
      "Requirement already satisfied: opentelemetry-exporter-otlp-proto-common==1.31.1 in /Users/nychanthrith/Documents/Chantharith/ME-Chatbot/venv/lib/python3.12/site-packages (from opentelemetry-exporter-otlp-proto-grpc>=1.2.0->chromadb) (1.31.1)\n",
      "Requirement already satisfied: opentelemetry-proto==1.31.1 in /Users/nychanthrith/Documents/Chantharith/ME-Chatbot/venv/lib/python3.12/site-packages (from opentelemetry-exporter-otlp-proto-grpc>=1.2.0->chromadb) (1.31.1)\n",
      "Requirement already satisfied: opentelemetry-instrumentation-asgi==0.52b1 in /Users/nychanthrith/Documents/Chantharith/ME-Chatbot/venv/lib/python3.12/site-packages (from opentelemetry-instrumentation-fastapi>=0.41b0->chromadb) (0.52b1)\n",
      "Requirement already satisfied: opentelemetry-instrumentation==0.52b1 in /Users/nychanthrith/Documents/Chantharith/ME-Chatbot/venv/lib/python3.12/site-packages (from opentelemetry-instrumentation-fastapi>=0.41b0->chromadb) (0.52b1)\n",
      "Requirement already satisfied: opentelemetry-semantic-conventions==0.52b1 in /Users/nychanthrith/Documents/Chantharith/ME-Chatbot/venv/lib/python3.12/site-packages (from opentelemetry-instrumentation-fastapi>=0.41b0->chromadb) (0.52b1)\n",
      "Requirement already satisfied: opentelemetry-util-http==0.52b1 in /Users/nychanthrith/Documents/Chantharith/ME-Chatbot/venv/lib/python3.12/site-packages (from opentelemetry-instrumentation-fastapi>=0.41b0->chromadb) (0.52b1)\n",
      "Requirement already satisfied: asgiref~=3.0 in /Users/nychanthrith/Documents/Chantharith/ME-Chatbot/venv/lib/python3.12/site-packages (from opentelemetry-instrumentation-asgi==0.52b1->opentelemetry-instrumentation-fastapi>=0.41b0->chromadb) (3.8.1)\n",
      "Requirement already satisfied: monotonic>=1.5 in /Users/nychanthrith/Documents/Chantharith/ME-Chatbot/venv/lib/python3.12/site-packages (from posthog>=2.4.0->chromadb) (1.6)\n",
      "Requirement already satisfied: distro>=1.5.0 in /Users/nychanthrith/Documents/Chantharith/ME-Chatbot/venv/lib/python3.12/site-packages (from posthog>=2.4.0->chromadb) (1.9.0)\n",
      "Requirement already satisfied: annotated-types>=0.6.0 in /Users/nychanthrith/Documents/Chantharith/ME-Chatbot/venv/lib/python3.12/site-packages (from pydantic<3.0.0,>=2.7.4->langchain) (0.7.0)\n",
      "Requirement already satisfied: pydantic-core==2.27.2 in /Users/nychanthrith/Documents/Chantharith/ME-Chatbot/venv/lib/python3.12/site-packages (from pydantic<3.0.0,>=2.7.4->langchain) (2.27.2)\n",
      "Requirement already satisfied: python-dotenv>=0.21.0 in /Users/nychanthrith/Documents/Chantharith/ME-Chatbot/venv/lib/python3.12/site-packages (from pydantic-settings<3.0.0,>=2.4.0->langchain-community) (1.0.1)\n",
      "Requirement already satisfied: markdown-it-py>=2.2.0 in /Users/nychanthrith/Documents/Chantharith/ME-Chatbot/venv/lib/python3.12/site-packages (from rich>=10.11.0->chromadb) (3.0.0)\n",
      "Requirement already satisfied: pygments<3.0.0,>=2.13.0 in /Users/nychanthrith/Documents/Chantharith/ME-Chatbot/venv/lib/python3.12/site-packages (from rich>=10.11.0->chromadb) (2.19.1)\n",
      "Requirement already satisfied: greenlet!=0.4.17 in /Users/nychanthrith/Documents/Chantharith/ME-Chatbot/venv/lib/python3.12/site-packages (from SQLAlchemy<3,>=1.4->langchain) (3.1.1)\n",
      "Requirement already satisfied: huggingface-hub<1.0,>=0.16.4 in /Users/nychanthrith/Documents/Chantharith/ME-Chatbot/venv/lib/python3.12/site-packages (from tokenizers>=0.13.2->chromadb) (0.29.2)\n",
      "Requirement already satisfied: click>=8.0.0 in /Users/nychanthrith/Documents/Chantharith/ME-Chatbot/venv/lib/python3.12/site-packages (from typer>=0.9.0->chromadb) (8.1.8)\n",
      "Requirement already satisfied: shellingham>=1.3.0 in /Users/nychanthrith/Documents/Chantharith/ME-Chatbot/venv/lib/python3.12/site-packages (from typer>=0.9.0->chromadb) (1.5.4)\n",
      "Requirement already satisfied: httptools>=0.6.3 in /Users/nychanthrith/Documents/Chantharith/ME-Chatbot/venv/lib/python3.12/site-packages (from uvicorn[standard]>=0.18.3->chromadb) (0.6.4)\n",
      "Requirement already satisfied: uvloop!=0.15.0,!=0.15.1,>=0.14.0 in /Users/nychanthrith/Documents/Chantharith/ME-Chatbot/venv/lib/python3.12/site-packages (from uvicorn[standard]>=0.18.3->chromadb) (0.21.0)\n",
      "Requirement already satisfied: watchfiles>=0.13 in /Users/nychanthrith/Documents/Chantharith/ME-Chatbot/venv/lib/python3.12/site-packages (from uvicorn[standard]>=0.18.3->chromadb) (1.0.4)\n",
      "Requirement already satisfied: websockets>=10.4 in /Users/nychanthrith/Documents/Chantharith/ME-Chatbot/venv/lib/python3.12/site-packages (from uvicorn[standard]>=0.18.3->chromadb) (15.0.1)\n",
      "Requirement already satisfied: webencodings in /Users/nychanthrith/Documents/Chantharith/ME-Chatbot/venv/lib/python3.12/site-packages (from html5lib->unstructured) (0.5.1)\n",
      "Requirement already satisfied: joblib in /Users/nychanthrith/Documents/Chantharith/ME-Chatbot/venv/lib/python3.12/site-packages (from nltk->unstructured) (1.4.2)\n",
      "Requirement already satisfied: regex>=2021.8.3 in /Users/nychanthrith/Documents/Chantharith/ME-Chatbot/venv/lib/python3.12/site-packages (from nltk->unstructured) (2024.11.6)\n",
      "Requirement already satisfied: olefile in /Users/nychanthrith/Documents/Chantharith/ME-Chatbot/venv/lib/python3.12/site-packages (from python-oxmsg->unstructured) (0.47)\n",
      "Requirement already satisfied: aiofiles>=24.1.0 in /Users/nychanthrith/Documents/Chantharith/ME-Chatbot/venv/lib/python3.12/site-packages (from unstructured-client->unstructured) (24.1.0)\n",
      "Requirement already satisfied: cryptography>=3.1 in /Users/nychanthrith/Documents/Chantharith/ME-Chatbot/venv/lib/python3.12/site-packages (from unstructured-client->unstructured) (44.0.2)\n",
      "Requirement already satisfied: eval-type-backport>=0.2.0 in /Users/nychanthrith/Documents/Chantharith/ME-Chatbot/venv/lib/python3.12/site-packages (from unstructured-client->unstructured) (0.2.2)\n",
      "Requirement already satisfied: nest-asyncio>=1.6.0 in /Users/nychanthrith/Documents/Chantharith/ME-Chatbot/venv/lib/python3.12/site-packages (from unstructured-client->unstructured) (1.6.0)\n",
      "Requirement already satisfied: pypdf>=4.0 in /Users/nychanthrith/Documents/Chantharith/ME-Chatbot/venv/lib/python3.12/site-packages (from unstructured-client->unstructured) (5.4.0)\n",
      "Requirement already satisfied: typing-inspection>=0.4.0 in /Users/nychanthrith/Documents/Chantharith/ME-Chatbot/venv/lib/python3.12/site-packages (from unstructured-client->unstructured) (0.4.0)\n",
      "Requirement already satisfied: cffi>=1.12 in /Users/nychanthrith/Documents/Chantharith/ME-Chatbot/venv/lib/python3.12/site-packages (from cryptography>=3.1->unstructured-client->unstructured) (1.17.1)\n",
      "Requirement already satisfied: cachetools<6.0,>=2.0.0 in /Users/nychanthrith/Documents/Chantharith/ME-Chatbot/venv/lib/python3.12/site-packages (from google-auth>=1.0.1->kubernetes>=28.1.0->chromadb) (5.5.2)\n",
      "Requirement already satisfied: pyasn1-modules>=0.2.1 in /Users/nychanthrith/Documents/Chantharith/ME-Chatbot/venv/lib/python3.12/site-packages (from google-auth>=1.0.1->kubernetes>=28.1.0->chromadb) (0.4.1)\n",
      "Requirement already satisfied: rsa<5,>=3.1.4 in /Users/nychanthrith/Documents/Chantharith/ME-Chatbot/venv/lib/python3.12/site-packages (from google-auth>=1.0.1->kubernetes>=28.1.0->chromadb) (4.9)\n",
      "Requirement already satisfied: filelock in /Users/nychanthrith/Documents/Chantharith/ME-Chatbot/venv/lib/python3.12/site-packages (from huggingface-hub<1.0,>=0.16.4->tokenizers>=0.13.2->chromadb) (3.17.0)\n",
      "Requirement already satisfied: fsspec>=2023.5.0 in /Users/nychanthrith/Documents/Chantharith/ME-Chatbot/venv/lib/python3.12/site-packages (from huggingface-hub<1.0,>=0.16.4->tokenizers>=0.13.2->chromadb) (2024.12.0)\n",
      "Requirement already satisfied: zipp>=3.20 in /Users/nychanthrith/Documents/Chantharith/ME-Chatbot/venv/lib/python3.12/site-packages (from importlib-metadata<8.7.0,>=6.0->opentelemetry-api>=1.2.0->chromadb) (3.21.0)\n",
      "Requirement already satisfied: jsonpointer>=1.9 in /Users/nychanthrith/Documents/Chantharith/ME-Chatbot/venv/lib/python3.12/site-packages (from jsonpatch<2.0,>=1.33->langchain-core<1.0.0,>=0.3.45->langchain) (3.0.0)\n",
      "Requirement already satisfied: mdurl~=0.1 in /Users/nychanthrith/Documents/Chantharith/ME-Chatbot/venv/lib/python3.12/site-packages (from markdown-it-py>=2.2.0->rich>=10.11.0->chromadb) (0.1.2)\n",
      "Requirement already satisfied: sniffio>=1.1 in /Users/nychanthrith/Documents/Chantharith/ME-Chatbot/venv/lib/python3.12/site-packages (from anyio->httpx>=0.27.0->chromadb) (1.3.1)\n",
      "Requirement already satisfied: mypy-extensions>=0.3.0 in /Users/nychanthrith/Documents/Chantharith/ME-Chatbot/venv/lib/python3.12/site-packages (from typing-inspect<1,>=0.4.0->dataclasses-json<0.7,>=0.5.7->langchain-community) (1.0.0)\n",
      "Requirement already satisfied: humanfriendly>=9.1 in /Users/nychanthrith/Documents/Chantharith/ME-Chatbot/venv/lib/python3.12/site-packages (from coloredlogs->onnxruntime>=1.14.1->chromadb) (10.0)\n",
      "Requirement already satisfied: mpmath<1.4,>=1.1.0 in /Users/nychanthrith/Documents/Chantharith/ME-Chatbot/venv/lib/python3.12/site-packages (from sympy->onnxruntime>=1.14.1->chromadb) (1.3.0)\n",
      "Requirement already satisfied: pycparser in /Users/nychanthrith/Documents/Chantharith/ME-Chatbot/venv/lib/python3.12/site-packages (from cffi>=1.12->cryptography>=3.1->unstructured-client->unstructured) (2.22)\n",
      "Requirement already satisfied: pyasn1<0.7.0,>=0.4.6 in /Users/nychanthrith/Documents/Chantharith/ME-Chatbot/venv/lib/python3.12/site-packages (from pyasn1-modules>=0.2.1->google-auth>=1.0.1->kubernetes>=28.1.0->chromadb) (0.6.1)\n",
      "\n",
      "\u001b[1m[\u001b[0m\u001b[34;49mnotice\u001b[0m\u001b[1;39;49m]\u001b[0m\u001b[39;49m A new release of pip is available: \u001b[0m\u001b[31;49m23.2.1\u001b[0m\u001b[39;49m -> \u001b[0m\u001b[32;49m25.0.1\u001b[0m\n",
      "\u001b[1m[\u001b[0m\u001b[34;49mnotice\u001b[0m\u001b[1;39;49m]\u001b[0m\u001b[39;49m To update, run: \u001b[0m\u001b[32;49mpip install --upgrade pip\u001b[0m\n",
      "Note: you may need to restart the kernel to use updated packages.\n"
     ]
    },
    {
     "name": "stdout",
     "output_type": "stream",
     "text": [
      "Requirement already satisfied: langchain in /Users/nychanthrith/Documents/Chantharith/ME-Chatbot/venv/lib/python3.12/site-packages (0.3.21)\n",
      "Requirement already satisfied: langchain-community in /Users/nychanthrith/Documents/Chantharith/ME-Chatbot/venv/lib/python3.12/site-packages (0.3.20)\n",
      "Requirement already satisfied: langchain-ollama in /Users/nychanthrith/Documents/Chantharith/ME-Chatbot/venv/lib/python3.12/site-packages (0.3.0)\n",
      "Requirement already satisfied: beautifulsoup4 in /Users/nychanthrith/Documents/Chantharith/ME-Chatbot/venv/lib/python3.12/site-packages (4.13.3)\n",
      "Requirement already satisfied: requests in /Users/nychanthrith/Documents/Chantharith/ME-Chatbot/venv/lib/python3.12/site-packages (2.32.3)\n",
      "Requirement already satisfied: chromadb in /Users/nychanthrith/Documents/Chantharith/ME-Chatbot/venv/lib/python3.12/site-packages (0.6.3)\n",
      "Requirement already satisfied: unstructured in /Users/nychanthrith/Documents/Chantharith/ME-Chatbot/venv/lib/python3.12/site-packages (0.17.2)\n",
      "Requirement already satisfied: langchain-core<1.0.0,>=0.3.45 in /Users/nychanthrith/Documents/Chantharith/ME-Chatbot/venv/lib/python3.12/site-packages (from langchain) (0.3.49)\n",
      "Requirement already satisfied: langchain-text-splitters<1.0.0,>=0.3.7 in /Users/nychanthrith/Documents/Chantharith/ME-Chatbot/venv/lib/python3.12/site-packages (from langchain) (0.3.7)\n",
      "Requirement already satisfied: langsmith<0.4,>=0.1.17 in /Users/nychanthrith/Documents/Chantharith/ME-Chatbot/venv/lib/python3.12/site-packages (from langchain) (0.3.15)\n",
      "Requirement already satisfied: pydantic<3.0.0,>=2.7.4 in /Users/nychanthrith/Documents/Chantharith/ME-Chatbot/venv/lib/python3.12/site-packages (from langchain) (2.10.6)\n",
      "Requirement already satisfied: SQLAlchemy<3,>=1.4 in /Users/nychanthrith/Documents/Chantharith/ME-Chatbot/venv/lib/python3.12/site-packages (from langchain) (2.0.39)\n",
      "Requirement already satisfied: PyYAML>=5.3 in /Users/nychanthrith/Documents/Chantharith/ME-Chatbot/venv/lib/python3.12/site-packages (from langchain) (6.0.2)\n",
      "Requirement already satisfied: aiohttp<4.0.0,>=3.8.3 in /Users/nychanthrith/Documents/Chantharith/ME-Chatbot/venv/lib/python3.12/site-packages (from langchain-community) (3.11.13)\n",
      "Requirement already satisfied: tenacity!=8.4.0,<10,>=8.1.0 in /Users/nychanthrith/Documents/Chantharith/ME-Chatbot/venv/lib/python3.12/site-packages (from langchain-community) (9.0.0)\n",
      "Requirement already satisfied: dataclasses-json<0.7,>=0.5.7 in /Users/nychanthrith/Documents/Chantharith/ME-Chatbot/venv/lib/python3.12/site-packages (from langchain-community) (0.6.7)\n",
      "Requirement already satisfied: pydantic-settings<3.0.0,>=2.4.0 in /Users/nychanthrith/Documents/Chantharith/ME-Chatbot/venv/lib/python3.12/site-packages (from langchain-community) (2.8.1)\n",
      "Requirement already satisfied: httpx-sse<1.0.0,>=0.4.0 in /Users/nychanthrith/Documents/Chantharith/ME-Chatbot/venv/lib/python3.12/site-packages (from langchain-community) (0.4.0)\n",
      "Requirement already satisfied: numpy<3,>=1.26.2 in /Users/nychanthrith/Documents/Chantharith/ME-Chatbot/venv/lib/python3.12/site-packages (from langchain-community) (2.2.4)\n",
      "Requirement already satisfied: ollama<1,>=0.4.4 in /Users/nychanthrith/Documents/Chantharith/ME-Chatbot/venv/lib/python3.12/site-packages (from langchain-ollama) (0.4.7)\n",
      "Requirement already satisfied: soupsieve>1.2 in /Users/nychanthrith/Documents/Chantharith/ME-Chatbot/venv/lib/python3.12/site-packages (from beautifulsoup4) (2.6)\n",
      "Requirement already satisfied: typing-extensions>=4.0.0 in /Users/nychanthrith/Documents/Chantharith/ME-Chatbot/venv/lib/python3.12/site-packages (from beautifulsoup4) (4.12.2)\n",
      "Requirement already satisfied: charset-normalizer<4,>=2 in /Users/nychanthrith/Documents/Chantharith/ME-Chatbot/venv/lib/python3.12/site-packages (from requests) (3.4.1)\n",
      "Requirement already satisfied: idna<4,>=2.5 in /Users/nychanthrith/Documents/Chantharith/ME-Chatbot/venv/lib/python3.12/site-packages (from requests) (3.10)\n",
      "Requirement already satisfied: urllib3<3,>=1.21.1 in /Users/nychanthrith/Documents/Chantharith/ME-Chatbot/venv/lib/python3.12/site-packages (from requests) (2.3.0)\n",
      "Requirement already satisfied: certifi>=2017.4.17 in /Users/nychanthrith/Documents/Chantharith/ME-Chatbot/venv/lib/python3.12/site-packages (from requests) (2025.1.31)\n",
      "Requirement already satisfied: build>=1.0.3 in /Users/nychanthrith/Documents/Chantharith/ME-Chatbot/venv/lib/python3.12/site-packages (from chromadb) (1.2.2.post1)\n",
      "Requirement already satisfied: chroma-hnswlib==0.7.6 in /Users/nychanthrith/Documents/Chantharith/ME-Chatbot/venv/lib/python3.12/site-packages (from chromadb) (0.7.6)\n",
      "Requirement already satisfied: fastapi>=0.95.2 in /Users/nychanthrith/Documents/Chantharith/ME-Chatbot/venv/lib/python3.12/site-packages (from chromadb) (0.115.11)\n",
      "Requirement already satisfied: uvicorn[standard]>=0.18.3 in /Users/nychanthrith/Documents/Chantharith/ME-Chatbot/venv/lib/python3.12/site-packages (from chromadb) (0.34.0)\n",
      "Requirement already satisfied: posthog>=2.4.0 in /Users/nychanthrith/Documents/Chantharith/ME-Chatbot/venv/lib/python3.12/site-packages (from chromadb) (3.23.0)\n",
      "Requirement already satisfied: onnxruntime>=1.14.1 in /Users/nychanthrith/Documents/Chantharith/ME-Chatbot/venv/lib/python3.12/site-packages (from chromadb) (1.21.0)\n",
      "Requirement already satisfied: opentelemetry-api>=1.2.0 in /Users/nychanthrith/Documents/Chantharith/ME-Chatbot/venv/lib/python3.12/site-packages (from chromadb) (1.31.1)\n",
      "Requirement already satisfied: opentelemetry-exporter-otlp-proto-grpc>=1.2.0 in /Users/nychanthrith/Documents/Chantharith/ME-Chatbot/venv/lib/python3.12/site-packages (from chromadb) (1.31.1)\n",
      "Requirement already satisfied: opentelemetry-instrumentation-fastapi>=0.41b0 in /Users/nychanthrith/Documents/Chantharith/ME-Chatbot/venv/lib/python3.12/site-packages (from chromadb) (0.52b1)\n",
      "Requirement already satisfied: opentelemetry-sdk>=1.2.0 in /Users/nychanthrith/Documents/Chantharith/ME-Chatbot/venv/lib/python3.12/site-packages (from chromadb) (1.31.1)\n",
      "Requirement already satisfied: tokenizers>=0.13.2 in /Users/nychanthrith/Documents/Chantharith/ME-Chatbot/venv/lib/python3.12/site-packages (from chromadb) (0.21.0)\n",
      "Requirement already satisfied: pypika>=0.48.9 in /Users/nychanthrith/Documents/Chantharith/ME-Chatbot/venv/lib/python3.12/site-packages (from chromadb) (0.48.9)\n",
      "Requirement already satisfied: tqdm>=4.65.0 in /Users/nychanthrith/Documents/Chantharith/ME-Chatbot/venv/lib/python3.12/site-packages (from chromadb) (4.67.1)\n",
      "Requirement already satisfied: overrides>=7.3.1 in /Users/nychanthrith/Documents/Chantharith/ME-Chatbot/venv/lib/python3.12/site-packages (from chromadb) (7.7.0)\n",
      "Requirement already satisfied: importlib-resources in /Users/nychanthrith/Documents/Chantharith/ME-Chatbot/venv/lib/python3.12/site-packages (from chromadb) (6.5.2)\n",
      "Requirement already satisfied: grpcio>=1.58.0 in /Users/nychanthrith/Documents/Chantharith/ME-Chatbot/venv/lib/python3.12/site-packages (from chromadb) (1.71.0)\n",
      "Requirement already satisfied: bcrypt>=4.0.1 in /Users/nychanthrith/Documents/Chantharith/ME-Chatbot/venv/lib/python3.12/site-packages (from chromadb) (4.3.0)\n",
      "Requirement already satisfied: typer>=0.9.0 in /Users/nychanthrith/Documents/Chantharith/ME-Chatbot/venv/lib/python3.12/site-packages (from chromadb) (0.15.2)\n",
      "Requirement already satisfied: kubernetes>=28.1.0 in /Users/nychanthrith/Documents/Chantharith/ME-Chatbot/venv/lib/python3.12/site-packages (from chromadb) (32.0.1)\n",
      "Requirement already satisfied: mmh3>=4.0.1 in /Users/nychanthrith/Documents/Chantharith/ME-Chatbot/venv/lib/python3.12/site-packages (from chromadb) (5.1.0)\n",
      "Requirement already satisfied: orjson>=3.9.12 in /Users/nychanthrith/Documents/Chantharith/ME-Chatbot/venv/lib/python3.12/site-packages (from chromadb) (3.10.15)\n",
      "Requirement already satisfied: httpx>=0.27.0 in /Users/nychanthrith/Documents/Chantharith/ME-Chatbot/venv/lib/python3.12/site-packages (from chromadb) (0.28.1)\n",
      "Requirement already satisfied: rich>=10.11.0 in /Users/nychanthrith/Documents/Chantharith/ME-Chatbot/venv/lib/python3.12/site-packages (from chromadb) (13.9.4)\n",
      "Requirement already satisfied: chardet in /Users/nychanthrith/Documents/Chantharith/ME-Chatbot/venv/lib/python3.12/site-packages (from unstructured) (5.2.0)\n",
      "Requirement already satisfied: filetype in /Users/nychanthrith/Documents/Chantharith/ME-Chatbot/venv/lib/python3.12/site-packages (from unstructured) (1.2.0)\n",
      "Requirement already satisfied: python-magic in /Users/nychanthrith/Documents/Chantharith/ME-Chatbot/venv/lib/python3.12/site-packages (from unstructured) (0.4.27)\n",
      "Requirement already satisfied: lxml in /Users/nychanthrith/Documents/Chantharith/ME-Chatbot/venv/lib/python3.12/site-packages (from unstructured) (5.3.1)\n",
      "Requirement already satisfied: nltk in /Users/nychanthrith/Documents/Chantharith/ME-Chatbot/venv/lib/python3.12/site-packages (from unstructured) (3.9.1)\n",
      "Requirement already satisfied: emoji in /Users/nychanthrith/Documents/Chantharith/ME-Chatbot/venv/lib/python3.12/site-packages (from unstructured) (2.14.1)\n",
      "Requirement already satisfied: python-iso639 in /Users/nychanthrith/Documents/Chantharith/ME-Chatbot/venv/lib/python3.12/site-packages (from unstructured) (2025.2.18)\n",
      "Requirement already satisfied: langdetect in /Users/nychanthrith/Documents/Chantharith/ME-Chatbot/venv/lib/python3.12/site-packages (from unstructured) (1.0.9)\n",
      "Requirement already satisfied: rapidfuzz in /Users/nychanthrith/Documents/Chantharith/ME-Chatbot/venv/lib/python3.12/site-packages (from unstructured) (3.12.2)\n",
      "Requirement already satisfied: backoff in /Users/nychanthrith/Documents/Chantharith/ME-Chatbot/venv/lib/python3.12/site-packages (from unstructured) (2.2.1)\n",
      "Requirement already satisfied: unstructured-client in /Users/nychanthrith/Documents/Chantharith/ME-Chatbot/venv/lib/python3.12/site-packages (from unstructured) (0.31.4)\n",
      "Requirement already satisfied: wrapt in /Users/nychanthrith/Documents/Chantharith/ME-Chatbot/venv/lib/python3.12/site-packages (from unstructured) (1.17.2)\n",
      "Requirement already satisfied: psutil in /Users/nychanthrith/Documents/Chantharith/ME-Chatbot/venv/lib/python3.12/site-packages (from unstructured) (7.0.0)\n",
      "Requirement already satisfied: python-oxmsg in /Users/nychanthrith/Documents/Chantharith/ME-Chatbot/venv/lib/python3.12/site-packages (from unstructured) (0.0.2)\n",
      "Requirement already satisfied: html5lib in /Users/nychanthrith/Documents/Chantharith/ME-Chatbot/venv/lib/python3.12/site-packages (from unstructured) (1.1)\n",
      "Requirement already satisfied: aiohappyeyeballs>=2.3.0 in /Users/nychanthrith/Documents/Chantharith/ME-Chatbot/venv/lib/python3.12/site-packages (from aiohttp<4.0.0,>=3.8.3->langchain-community) (2.5.0)\n",
      "Requirement already satisfied: aiosignal>=1.1.2 in /Users/nychanthrith/Documents/Chantharith/ME-Chatbot/venv/lib/python3.12/site-packages (from aiohttp<4.0.0,>=3.8.3->langchain-community) (1.3.2)\n",
      "Requirement already satisfied: attrs>=17.3.0 in /Users/nychanthrith/Documents/Chantharith/ME-Chatbot/venv/lib/python3.12/site-packages (from aiohttp<4.0.0,>=3.8.3->langchain-community) (25.1.0)\n",
      "Requirement already satisfied: frozenlist>=1.1.1 in /Users/nychanthrith/Documents/Chantharith/ME-Chatbot/venv/lib/python3.12/site-packages (from aiohttp<4.0.0,>=3.8.3->langchain-community) (1.5.0)\n",
      "Requirement already satisfied: multidict<7.0,>=4.5 in /Users/nychanthrith/Documents/Chantharith/ME-Chatbot/venv/lib/python3.12/site-packages (from aiohttp<4.0.0,>=3.8.3->langchain-community) (6.1.0)\n",
      "Requirement already satisfied: propcache>=0.2.0 in /Users/nychanthrith/Documents/Chantharith/ME-Chatbot/venv/lib/python3.12/site-packages (from aiohttp<4.0.0,>=3.8.3->langchain-community) (0.3.0)\n",
      "Requirement already satisfied: yarl<2.0,>=1.17.0 in /Users/nychanthrith/Documents/Chantharith/ME-Chatbot/venv/lib/python3.12/site-packages (from aiohttp<4.0.0,>=3.8.3->langchain-community) (1.18.3)\n",
      "Requirement already satisfied: packaging>=19.1 in /Users/nychanthrith/Documents/Chantharith/ME-Chatbot/venv/lib/python3.12/site-packages (from build>=1.0.3->chromadb) (24.2)\n",
      "Requirement already satisfied: pyproject_hooks in /Users/nychanthrith/Documents/Chantharith/ME-Chatbot/venv/lib/python3.12/site-packages (from build>=1.0.3->chromadb) (1.2.0)\n",
      "Requirement already satisfied: marshmallow<4.0.0,>=3.18.0 in /Users/nychanthrith/Documents/Chantharith/ME-Chatbot/venv/lib/python3.12/site-packages (from dataclasses-json<0.7,>=0.5.7->langchain-community) (3.26.1)\n",
      "Requirement already satisfied: typing-inspect<1,>=0.4.0 in /Users/nychanthrith/Documents/Chantharith/ME-Chatbot/venv/lib/python3.12/site-packages (from dataclasses-json<0.7,>=0.5.7->langchain-community) (0.9.0)\n",
      "Requirement already satisfied: starlette<0.47.0,>=0.40.0 in /Users/nychanthrith/Documents/Chantharith/ME-Chatbot/venv/lib/python3.12/site-packages (from fastapi>=0.95.2->chromadb) (0.46.0)\n",
      "Requirement already satisfied: anyio in /Users/nychanthrith/Documents/Chantharith/ME-Chatbot/venv/lib/python3.12/site-packages (from httpx>=0.27.0->chromadb) (4.8.0)\n",
      "Requirement already satisfied: httpcore==1.* in /Users/nychanthrith/Documents/Chantharith/ME-Chatbot/venv/lib/python3.12/site-packages (from httpx>=0.27.0->chromadb) (1.0.7)\n",
      "Requirement already satisfied: h11<0.15,>=0.13 in /Users/nychanthrith/Documents/Chantharith/ME-Chatbot/venv/lib/python3.12/site-packages (from httpcore==1.*->httpx>=0.27.0->chromadb) (0.14.0)\n",
      "Requirement already satisfied: six>=1.9.0 in /Users/nychanthrith/Documents/Chantharith/ME-Chatbot/venv/lib/python3.12/site-packages (from kubernetes>=28.1.0->chromadb) (1.17.0)\n",
      "Requirement already satisfied: python-dateutil>=2.5.3 in /Users/nychanthrith/Documents/Chantharith/ME-Chatbot/venv/lib/python3.12/site-packages (from kubernetes>=28.1.0->chromadb) (2.9.0.post0)\n",
      "Requirement already satisfied: google-auth>=1.0.1 in /Users/nychanthrith/Documents/Chantharith/ME-Chatbot/venv/lib/python3.12/site-packages (from kubernetes>=28.1.0->chromadb) (2.38.0)\n",
      "Requirement already satisfied: websocket-client!=0.40.0,!=0.41.*,!=0.42.*,>=0.32.0 in /Users/nychanthrith/Documents/Chantharith/ME-Chatbot/venv/lib/python3.12/site-packages (from kubernetes>=28.1.0->chromadb) (1.8.0)\n",
      "Requirement already satisfied: requests-oauthlib in /Users/nychanthrith/Documents/Chantharith/ME-Chatbot/venv/lib/python3.12/site-packages (from kubernetes>=28.1.0->chromadb) (2.0.0)\n",
      "Requirement already satisfied: oauthlib>=3.2.2 in /Users/nychanthrith/Documents/Chantharith/ME-Chatbot/venv/lib/python3.12/site-packages (from kubernetes>=28.1.0->chromadb) (3.2.2)\n",
      "Requirement already satisfied: durationpy>=0.7 in /Users/nychanthrith/Documents/Chantharith/ME-Chatbot/venv/lib/python3.12/site-packages (from kubernetes>=28.1.0->chromadb) (0.9)\n",
      "Requirement already satisfied: jsonpatch<2.0,>=1.33 in /Users/nychanthrith/Documents/Chantharith/ME-Chatbot/venv/lib/python3.12/site-packages (from langchain-core<1.0.0,>=0.3.45->langchain) (1.33)\n",
      "Requirement already satisfied: requests-toolbelt<2.0.0,>=1.0.0 in /Users/nychanthrith/Documents/Chantharith/ME-Chatbot/venv/lib/python3.12/site-packages (from langsmith<0.4,>=0.1.17->langchain) (1.0.0)\n",
      "Requirement already satisfied: zstandard<0.24.0,>=0.23.0 in /Users/nychanthrith/Documents/Chantharith/ME-Chatbot/venv/lib/python3.12/site-packages (from langsmith<0.4,>=0.1.17->langchain) (0.23.0)\n",
      "Requirement already satisfied: coloredlogs in /Users/nychanthrith/Documents/Chantharith/ME-Chatbot/venv/lib/python3.12/site-packages (from onnxruntime>=1.14.1->chromadb) (15.0.1)\n",
      "Requirement already satisfied: flatbuffers in /Users/nychanthrith/Documents/Chantharith/ME-Chatbot/venv/lib/python3.12/site-packages (from onnxruntime>=1.14.1->chromadb) (25.2.10)\n",
      "Requirement already satisfied: protobuf in /Users/nychanthrith/Documents/Chantharith/ME-Chatbot/venv/lib/python3.12/site-packages (from onnxruntime>=1.14.1->chromadb) (5.29.4)\n",
      "Requirement already satisfied: sympy in /Users/nychanthrith/Documents/Chantharith/ME-Chatbot/venv/lib/python3.12/site-packages (from onnxruntime>=1.14.1->chromadb) (1.13.3)\n",
      "Requirement already satisfied: deprecated>=1.2.6 in /Users/nychanthrith/Documents/Chantharith/ME-Chatbot/venv/lib/python3.12/site-packages (from opentelemetry-api>=1.2.0->chromadb) (1.2.18)\n",
      "Requirement already satisfied: importlib-metadata<8.7.0,>=6.0 in /Users/nychanthrith/Documents/Chantharith/ME-Chatbot/venv/lib/python3.12/site-packages (from opentelemetry-api>=1.2.0->chromadb) (8.6.1)\n",
      "Requirement already satisfied: googleapis-common-protos~=1.52 in /Users/nychanthrith/Documents/Chantharith/ME-Chatbot/venv/lib/python3.12/site-packages (from opentelemetry-exporter-otlp-proto-grpc>=1.2.0->chromadb) (1.69.2)\n",
      "Requirement already satisfied: opentelemetry-exporter-otlp-proto-common==1.31.1 in /Users/nychanthrith/Documents/Chantharith/ME-Chatbot/venv/lib/python3.12/site-packages (from opentelemetry-exporter-otlp-proto-grpc>=1.2.0->chromadb) (1.31.1)\n",
      "Requirement already satisfied: opentelemetry-proto==1.31.1 in /Users/nychanthrith/Documents/Chantharith/ME-Chatbot/venv/lib/python3.12/site-packages (from opentelemetry-exporter-otlp-proto-grpc>=1.2.0->chromadb) (1.31.1)\n",
      "Requirement already satisfied: opentelemetry-instrumentation-asgi==0.52b1 in /Users/nychanthrith/Documents/Chantharith/ME-Chatbot/venv/lib/python3.12/site-packages (from opentelemetry-instrumentation-fastapi>=0.41b0->chromadb) (0.52b1)\n",
      "Requirement already satisfied: opentelemetry-instrumentation==0.52b1 in /Users/nychanthrith/Documents/Chantharith/ME-Chatbot/venv/lib/python3.12/site-packages (from opentelemetry-instrumentation-fastapi>=0.41b0->chromadb) (0.52b1)\n",
      "Requirement already satisfied: opentelemetry-semantic-conventions==0.52b1 in /Users/nychanthrith/Documents/Chantharith/ME-Chatbot/venv/lib/python3.12/site-packages (from opentelemetry-instrumentation-fastapi>=0.41b0->chromadb) (0.52b1)\n",
      "Requirement already satisfied: opentelemetry-util-http==0.52b1 in /Users/nychanthrith/Documents/Chantharith/ME-Chatbot/venv/lib/python3.12/site-packages (from opentelemetry-instrumentation-fastapi>=0.41b0->chromadb) (0.52b1)\n",
      "Requirement already satisfied: asgiref~=3.0 in /Users/nychanthrith/Documents/Chantharith/ME-Chatbot/venv/lib/python3.12/site-packages (from opentelemetry-instrumentation-asgi==0.52b1->opentelemetry-instrumentation-fastapi>=0.41b0->chromadb) (3.8.1)\n",
      "Requirement already satisfied: monotonic>=1.5 in /Users/nychanthrith/Documents/Chantharith/ME-Chatbot/venv/lib/python3.12/site-packages (from posthog>=2.4.0->chromadb) (1.6)\n",
      "Requirement already satisfied: distro>=1.5.0 in /Users/nychanthrith/Documents/Chantharith/ME-Chatbot/venv/lib/python3.12/site-packages (from posthog>=2.4.0->chromadb) (1.9.0)\n",
      "Requirement already satisfied: annotated-types>=0.6.0 in /Users/nychanthrith/Documents/Chantharith/ME-Chatbot/venv/lib/python3.12/site-packages (from pydantic<3.0.0,>=2.7.4->langchain) (0.7.0)\n",
      "Requirement already satisfied: pydantic-core==2.27.2 in /Users/nychanthrith/Documents/Chantharith/ME-Chatbot/venv/lib/python3.12/site-packages (from pydantic<3.0.0,>=2.7.4->langchain) (2.27.2)\n",
      "Requirement already satisfied: python-dotenv>=0.21.0 in /Users/nychanthrith/Documents/Chantharith/ME-Chatbot/venv/lib/python3.12/site-packages (from pydantic-settings<3.0.0,>=2.4.0->langchain-community) (1.0.1)\n",
      "Requirement already satisfied: markdown-it-py>=2.2.0 in /Users/nychanthrith/Documents/Chantharith/ME-Chatbot/venv/lib/python3.12/site-packages (from rich>=10.11.0->chromadb) (3.0.0)\n",
      "Requirement already satisfied: pygments<3.0.0,>=2.13.0 in /Users/nychanthrith/Documents/Chantharith/ME-Chatbot/venv/lib/python3.12/site-packages (from rich>=10.11.0->chromadb) (2.19.1)\n",
      "Requirement already satisfied: greenlet!=0.4.17 in /Users/nychanthrith/Documents/Chantharith/ME-Chatbot/venv/lib/python3.12/site-packages (from SQLAlchemy<3,>=1.4->langchain) (3.1.1)\n",
      "Requirement already satisfied: huggingface-hub<1.0,>=0.16.4 in /Users/nychanthrith/Documents/Chantharith/ME-Chatbot/venv/lib/python3.12/site-packages (from tokenizers>=0.13.2->chromadb) (0.29.2)\n",
      "Requirement already satisfied: click>=8.0.0 in /Users/nychanthrith/Documents/Chantharith/ME-Chatbot/venv/lib/python3.12/site-packages (from typer>=0.9.0->chromadb) (8.1.8)\n",
      "Requirement already satisfied: shellingham>=1.3.0 in /Users/nychanthrith/Documents/Chantharith/ME-Chatbot/venv/lib/python3.12/site-packages (from typer>=0.9.0->chromadb) (1.5.4)\n",
      "Requirement already satisfied: httptools>=0.6.3 in /Users/nychanthrith/Documents/Chantharith/ME-Chatbot/venv/lib/python3.12/site-packages (from uvicorn[standard]>=0.18.3->chromadb) (0.6.4)\n",
      "Requirement already satisfied: uvloop!=0.15.0,!=0.15.1,>=0.14.0 in /Users/nychanthrith/Documents/Chantharith/ME-Chatbot/venv/lib/python3.12/site-packages (from uvicorn[standard]>=0.18.3->chromadb) (0.21.0)\n",
      "Requirement already satisfied: watchfiles>=0.13 in /Users/nychanthrith/Documents/Chantharith/ME-Chatbot/venv/lib/python3.12/site-packages (from uvicorn[standard]>=0.18.3->chromadb) (1.0.4)\n",
      "Requirement already satisfied: websockets>=10.4 in /Users/nychanthrith/Documents/Chantharith/ME-Chatbot/venv/lib/python3.12/site-packages (from uvicorn[standard]>=0.18.3->chromadb) (15.0.1)\n",
      "Requirement already satisfied: webencodings in /Users/nychanthrith/Documents/Chantharith/ME-Chatbot/venv/lib/python3.12/site-packages (from html5lib->unstructured) (0.5.1)\n",
      "Requirement already satisfied: joblib in /Users/nychanthrith/Documents/Chantharith/ME-Chatbot/venv/lib/python3.12/site-packages (from nltk->unstructured) (1.4.2)\n",
      "Requirement already satisfied: regex>=2021.8.3 in /Users/nychanthrith/Documents/Chantharith/ME-Chatbot/venv/lib/python3.12/site-packages (from nltk->unstructured) (2024.11.6)\n",
      "Requirement already satisfied: olefile in /Users/nychanthrith/Documents/Chantharith/ME-Chatbot/venv/lib/python3.12/site-packages (from python-oxmsg->unstructured) (0.47)\n",
      "Requirement already satisfied: aiofiles>=24.1.0 in /Users/nychanthrith/Documents/Chantharith/ME-Chatbot/venv/lib/python3.12/site-packages (from unstructured-client->unstructured) (24.1.0)\n",
      "Requirement already satisfied: cryptography>=3.1 in /Users/nychanthrith/Documents/Chantharith/ME-Chatbot/venv/lib/python3.12/site-packages (from unstructured-client->unstructured) (44.0.2)\n",
      "Requirement already satisfied: eval-type-backport>=0.2.0 in /Users/nychanthrith/Documents/Chantharith/ME-Chatbot/venv/lib/python3.12/site-packages (from unstructured-client->unstructured) (0.2.2)\n",
      "Requirement already satisfied: nest-asyncio>=1.6.0 in /Users/nychanthrith/Documents/Chantharith/ME-Chatbot/venv/lib/python3.12/site-packages (from unstructured-client->unstructured) (1.6.0)\n",
      "Requirement already satisfied: pypdf>=4.0 in /Users/nychanthrith/Documents/Chantharith/ME-Chatbot/venv/lib/python3.12/site-packages (from unstructured-client->unstructured) (5.4.0)\n",
      "Requirement already satisfied: typing-inspection>=0.4.0 in /Users/nychanthrith/Documents/Chantharith/ME-Chatbot/venv/lib/python3.12/site-packages (from unstructured-client->unstructured) (0.4.0)\n",
      "Requirement already satisfied: cffi>=1.12 in /Users/nychanthrith/Documents/Chantharith/ME-Chatbot/venv/lib/python3.12/site-packages (from cryptography>=3.1->unstructured-client->unstructured) (1.17.1)\n",
      "Requirement already satisfied: cachetools<6.0,>=2.0.0 in /Users/nychanthrith/Documents/Chantharith/ME-Chatbot/venv/lib/python3.12/site-packages (from google-auth>=1.0.1->kubernetes>=28.1.0->chromadb) (5.5.2)\n",
      "Requirement already satisfied: pyasn1-modules>=0.2.1 in /Users/nychanthrith/Documents/Chantharith/ME-Chatbot/venv/lib/python3.12/site-packages (from google-auth>=1.0.1->kubernetes>=28.1.0->chromadb) (0.4.1)\n",
      "Requirement already satisfied: rsa<5,>=3.1.4 in /Users/nychanthrith/Documents/Chantharith/ME-Chatbot/venv/lib/python3.12/site-packages (from google-auth>=1.0.1->kubernetes>=28.1.0->chromadb) (4.9)\n",
      "Requirement already satisfied: filelock in /Users/nychanthrith/Documents/Chantharith/ME-Chatbot/venv/lib/python3.12/site-packages (from huggingface-hub<1.0,>=0.16.4->tokenizers>=0.13.2->chromadb) (3.17.0)\n",
      "Requirement already satisfied: fsspec>=2023.5.0 in /Users/nychanthrith/Documents/Chantharith/ME-Chatbot/venv/lib/python3.12/site-packages (from huggingface-hub<1.0,>=0.16.4->tokenizers>=0.13.2->chromadb) (2024.12.0)\n",
      "Requirement already satisfied: zipp>=3.20 in /Users/nychanthrith/Documents/Chantharith/ME-Chatbot/venv/lib/python3.12/site-packages (from importlib-metadata<8.7.0,>=6.0->opentelemetry-api>=1.2.0->chromadb) (3.21.0)\n",
      "Requirement already satisfied: jsonpointer>=1.9 in /Users/nychanthrith/Documents/Chantharith/ME-Chatbot/venv/lib/python3.12/site-packages (from jsonpatch<2.0,>=1.33->langchain-core<1.0.0,>=0.3.45->langchain) (3.0.0)\n",
      "Requirement already satisfied: mdurl~=0.1 in /Users/nychanthrith/Documents/Chantharith/ME-Chatbot/venv/lib/python3.12/site-packages (from markdown-it-py>=2.2.0->rich>=10.11.0->chromadb) (0.1.2)\n",
      "Requirement already satisfied: sniffio>=1.1 in /Users/nychanthrith/Documents/Chantharith/ME-Chatbot/venv/lib/python3.12/site-packages (from anyio->httpx>=0.27.0->chromadb) (1.3.1)\n",
      "Requirement already satisfied: mypy-extensions>=0.3.0 in /Users/nychanthrith/Documents/Chantharith/ME-Chatbot/venv/lib/python3.12/site-packages (from typing-inspect<1,>=0.4.0->dataclasses-json<0.7,>=0.5.7->langchain-community) (1.0.0)\n",
      "Requirement already satisfied: humanfriendly>=9.1 in /Users/nychanthrith/Documents/Chantharith/ME-Chatbot/venv/lib/python3.12/site-packages (from coloredlogs->onnxruntime>=1.14.1->chromadb) (10.0)\n",
      "Requirement already satisfied: mpmath<1.4,>=1.1.0 in /Users/nychanthrith/Documents/Chantharith/ME-Chatbot/venv/lib/python3.12/site-packages (from sympy->onnxruntime>=1.14.1->chromadb) (1.3.0)\n",
      "Requirement already satisfied: pycparser in /Users/nychanthrith/Documents/Chantharith/ME-Chatbot/venv/lib/python3.12/site-packages (from cffi>=1.12->cryptography>=3.1->unstructured-client->unstructured) (2.22)\n",
      "Requirement already satisfied: pyasn1<0.7.0,>=0.4.6 in /Users/nychanthrith/Documents/Chantharith/ME-Chatbot/venv/lib/python3.12/site-packages (from pyasn1-modules>=0.2.1->google-auth>=1.0.1->kubernetes>=28.1.0->chromadb) (0.6.1)\n",
      "\n",
      "\u001b[1m[\u001b[0m\u001b[34;49mnotice\u001b[0m\u001b[1;39;49m]\u001b[0m\u001b[39;49m A new release of pip is available: \u001b[0m\u001b[31;49m23.2.1\u001b[0m\u001b[39;49m -> \u001b[0m\u001b[32;49m25.0.1\u001b[0m\n",
      "\u001b[1m[\u001b[0m\u001b[34;49mnotice\u001b[0m\u001b[1;39;49m]\u001b[0m\u001b[39;49m To update, run: \u001b[0m\u001b[32;49mpip install --upgrade pip\u001b[0m\n",
      "Note: you may need to restart the kernel to use updated packages.\n"
     ]
    }
   ],
   "source": [
    "%pip install langchain langchain-community langchain-ollama beautifulsoup4 requests chromadb unstructured"
   ]
  },
  {
   "cell_type": "markdown",
   "metadata": {},
   "source": [
    "### 2. Load Data (PDFs & Websites)\n",
    "We need to extract text from both **PDF Documents** and **webpage**"
   ]
  },
  {
   "cell_type": "markdown",
   "metadata": {},
   "source": [
    "#### 2.1 Extract Text from PDFs\n",
    "Modify your existing LangChain PDF loader to handle multiple PDFs:"
   ]
  },
  {
   "cell_type": "code",
   "execution_count": 20,
   "metadata": {},
   "outputs": [
    {
     "name": "stdout",
     "output_type": "stream",
     "text": [
      "Load 4 documents from PDFs\n"
     ]
    }
   ],
   "source": [
    "from langchain_community.document_loaders import UnstructuredPDFLoader\n",
    "import os\n",
    "\n",
    "def load_pdfs(folder_paths):\n",
    "    all_data = []\n",
    "    for filename in os.listdir(folder_paths):\n",
    "        if filename.endswith(\".pdf\"):\n",
    "            file_path = os.path.join(folder_paths, filename)\n",
    "            loader = UnstructuredPDFLoader(file_path)\n",
    "            all_data.extend(loader.load())\n",
    "    return all_data\n",
    "\n",
    "folder_path = \"/Users/nychanthrith/Documents/Chantharith/ME-Chatbot/ai-model/data/raw_pdfs\"\n",
    "pdf_data = load_pdfs(folder_path)\n",
    "print(f\"Load {len(pdf_data)} documents from PDFs\")"
   ]
  },
  {
   "cell_type": "markdown",
   "metadata": {},
   "source": [
    "#### 2.2 Scrape Websites\n",
    "For retrieving data from ITC, RUPP, CADT, and UHS websites, use ``BeautifulSoup``:"
   ]
  },
  {
   "cell_type": "code",
   "execution_count": 2,
   "metadata": {},
   "outputs": [
    {
     "name": "stdout",
     "output_type": "stream",
     "text": [
      "Scraped 4 websites\n"
     ]
    }
   ],
   "source": [
    "import requests\n",
    "from bs4 import BeautifulSoup\n",
    "\n",
    "def scrape_website(url):\n",
    "    response = requests.get(url)\n",
    "    if response.status_code == 200:\n",
    "        soup = BeautifulSoup(response.text, \"html.parser\")\n",
    "        return soup.get_text()\n",
    "    return \"\"\n",
    "\n",
    "urls = [\n",
    "    \"https://itc.edu.kh/#\",\n",
    "    \"https://www.rupp.edu.kh/\",\n",
    "    \"https://cadt.edu.kh/about/\",\n",
    "    \"https://uhs.edu.kh/\"\n",
    "]\n",
    "\n",
    "web_data = [scrape_website(url) for url in urls]\n",
    "print(f\"Scraped {len(web_data)} websites\")"
   ]
  },
  {
   "cell_type": "markdown",
   "metadata": {},
   "source": [
    "### 3. Process and Store Data"
   ]
  },
  {
   "cell_type": "markdown",
   "metadata": {},
   "source": [
    "#### 3.1 Split Text into Chunks\n",
    "Since PDFs and websites have long text, we split them for better retrieval."
   ]
  },
  {
   "cell_type": "code",
   "execution_count": 21,
   "metadata": {},
   "outputs": [
    {
     "name": "stdout",
     "output_type": "stream",
     "text": [
      "Type of pdf_data: <class 'list'>\n",
      "Type of web_data: <class 'list'>\n"
     ]
    }
   ],
   "source": [
    "print(f\"Type of pdf_data: {type(pdf_data)}\")  # Should be a list of Document objects\n",
    "print(f\"Type of web_data: {type(web_data)}\")  # Should be a list of Document objects\n"
   ]
  },
  {
   "cell_type": "code",
   "execution_count": 22,
   "metadata": {},
   "outputs": [
    {
     "name": "stdout",
     "output_type": "stream",
     "text": [
      "Total chunks created: 24\n"
     ]
    }
   ],
   "source": [
    "from langchain_text_splitters import RecursiveCharacterTextSplitter\n",
    "from langchain_core.documents import Document\n",
    "\n",
    "def split_text(data):\n",
    "    # Ensure input is a list of LangChain Documents\n",
    "    if isinstance(data, str):  \n",
    "        data = [Document(page_content=data)]\n",
    "    elif isinstance(data, list) and all(isinstance(item, str) for item in data):  \n",
    "        data = [Document(page_content=item) for item in data]  # Corrected 'd' to 'item'\n",
    "    \n",
    "    text_splitter = RecursiveCharacterTextSplitter(chunk_size=2000, chunk_overlap=300)\n",
    "    return text_splitter.split_documents(data)\n",
    "\n",
    "# ✅ Convert PDF data to LangChain Documents if it's raw text\n",
    "if isinstance(pdf_data, str):\n",
    "    pdf_data = [Document(page_content=pdf_data)]\n",
    "elif isinstance(pdf_data, list) and all(isinstance(item, str) for item in pdf_data):  # Corrected 'd' to 'item'\n",
    "    pdf_data = [Document(page_content=item) for item in pdf_data]\n",
    "\n",
    "# ✅ Convert Web data to LangChain Documents if needed\n",
    "if isinstance(web_data, str):\n",
    "    web_data = [Document(page_content=web_data)]\n",
    "elif isinstance(web_data, list) and all(isinstance(item, str) for item in web_data):  # Corrected 'd' to 'item'\n",
    "    web_data = [Document(page_content=item) for item in web_data]\n",
    "\n",
    "# Now process\n",
    "pdf_chunks = split_text(pdf_data)\n",
    "web_chunks = split_text(web_data)\n",
    "\n",
    "# Combine all chunks\n",
    "all_chunks = pdf_chunks + web_chunks\n",
    "print(f\"Total chunks created: {len(all_chunks)}\")\n"
   ]
  },
  {
   "cell_type": "markdown",
   "metadata": {},
   "source": [
    "#### 3.2 Store Data in a Vector Database\n",
    "We store the chunks using **ChromaDB**:"
   ]
  },
  {
   "cell_type": "code",
   "execution_count": 23,
   "metadata": {},
   "outputs": [
    {
     "name": "stdout",
     "output_type": "stream",
     "text": [
      "Vector database created successfully\n"
     ]
    }
   ],
   "source": [
    "from langchain_community.vectorstores import Chroma\n",
    "from langchain_ollama import OllamaEmbeddings\n",
    "\n",
    "vector_db = Chroma.from_documents(\n",
    "    documents=all_chunks,\n",
    "    embedding=OllamaEmbeddings(model=\"nomic-embed-text\"),\n",
    "    collection_name=\"exam-chatbot\"\n",
    ")\n",
    "\n",
    "print(\"Vector database created successfully\")"
   ]
  },
  {
   "cell_type": "markdown",
   "metadata": {},
   "source": [
    "### 4. Build the Chatbot"
   ]
  },
  {
   "cell_type": "markdown",
   "metadata": {},
   "source": [
    "#### 4.1 Setup LLM & Retrieval"
   ]
  },
  {
   "cell_type": "code",
   "execution_count": 24,
   "metadata": {},
   "outputs": [],
   "source": [
    "from langchain_ollama.chat_models import ChatOllama\n",
    "from langchain.retrievers.multi_query import MultiQueryRetriever\n",
    "from langchain.prompts import ChatPromptTemplate, PromptTemplate\n",
    "\n",
    "llm = ChatOllama(model=\"llama3.2\")\n",
    "\n",
    "retriever = MultiQueryRetriever.from_llm(vector_db.as_retriever(), llm)"
   ]
  },
  {
   "cell_type": "markdown",
   "metadata": {},
   "source": [
    "#### 4.2 Create RAG Chain"
   ]
  },
  {
   "cell_type": "code",
   "execution_count": 25,
   "metadata": {},
   "outputs": [],
   "source": [
    "from langchain_core.runnables import RunnablePassthrough\n",
    "from langchain_core.output_parsers import StrOutputParser\n",
    "\n",
    "template = \"\"\"Answer based ONLY on the following context:\n",
    "{context}\n",
    "Question: {question}\n",
    "\"\"\"\n",
    "\n",
    "prompt = ChatPromptTemplate.from_template(template)\n",
    "\n",
    "chain = (\n",
    "    {\"context\": retriever, \"question\": RunnablePassthrough()}\n",
    "    | prompt\n",
    "    | llm\n",
    "    | StrOutputParser()\n",
    ")"
   ]
  },
  {
   "cell_type": "markdown",
   "metadata": {},
   "source": [
    "#### 4.3 Create Chat Function"
   ]
  },
  {
   "cell_type": "code",
   "execution_count": 26,
   "metadata": {},
   "outputs": [
    {
     "data": {
      "text/markdown": [
       "The admission requirements for Institute of Technology of Cambodia (ITC) vary depending on the program and student status. Generally, the following requirements are required:\n",
       "\n",
       "* Completion of upper secondary education (high school) or equivalent\n",
       "* Specific subject requirements, such as math and sciences for engineering programs\n",
       "* Language proficiency in Khmer and/or English\n",
       "\n",
       "It's also worth noting that tuition fees vary depending on the program, year of study, and student status. Additionally, information on scholarships and financial aid should be available through the university's student services or financial aid office.\n",
       "\n",
       "Here are some specific admission requirements for certain programs at ITC:\n",
       "\n",
       "* Technician Degree: Completion of upper secondary education (high school) with a minimum GPA of 2.5\n",
       "* Engineering Degree: Completion of upper secondary education (high school) with a minimum GPA of 3.0, plus specific subject requirements such as math and sciences\n",
       "* Graduate School: Master's degree or equivalent, with a minimum GPA of 3.0\n",
       "* Doctoral program: Ph.D. or equivalent, with a minimum GPA of 3.5\n",
       "\n",
       "Please note that these requirements are subject to change, and it's always best to check the official website of ITC or contact their admissions department for the most up-to-date information."
      ],
      "text/plain": [
       "<IPython.core.display.Markdown object>"
      ]
     },
     "metadata": {},
     "output_type": "display_data"
    }
   ],
   "source": [
    "from IPython.display import display, Markdown\n",
    "\n",
    "def chat_with_bot(question):\n",
    "    english_instruction = \"Please respond in English: \"\n",
    "    response = chain.invoke(english_instruction + question)\n",
    "    display(Markdown(response))\n",
    "    \n",
    "# Test Example\n",
    "chat_with_bot(\"What are the admission requirements for ITC\")"
   ]
  },
  {
   "cell_type": "code",
   "execution_count": 27,
   "metadata": {},
   "outputs": [
    {
     "data": {
      "text/markdown": [
       "According to the provided text, the admission requirements for the Cambodia Academy of Digital Technology (CADT) vary depending on the specific program. Generally, these may include:\n",
       "\n",
       "* Completion of upper secondary education (high school) or equivalent\n",
       "* Specific subject requirements, particularly in mathematics and sciences, for technology-related programs\n",
       "* Entrance examinations or interviews for some programs\n",
       "\n",
       "It is recommended to check the CADT website for a complete list of their current program offerings and admission requirements, as they may evolve rapidly to keep pace with the tech industry.\n",
       "\n",
       "Additionally, details on application procedures, deadlines, and required documents can be found on the official CADT website. Inquiring about potential scholarships or financial aid options through CADT's student services or financial aid department may also provide additional information."
      ],
      "text/plain": [
       "<IPython.core.display.Markdown object>"
      ]
     },
     "metadata": {},
     "output_type": "display_data"
    }
   ],
   "source": [
    "chat_with_bot(\"What are the admission requirements for CADT\")"
   ]
  },
  {
   "cell_type": "code",
   "execution_count": 28,
   "metadata": {},
   "outputs": [
    {
     "data": {
      "text/markdown": [
       "The admission requirements for Royal University of Phnom Penh (RUPP) vary depending on the specific faculty and program. However, some general requirements are as follows:\n",
       "\n",
       "* Completion of upper secondary education (high school)\n",
       "* General requirement: completion of high school or equivalent\n",
       "* Specific programs may have additional requirements such as:\n",
       "\t+ Entrance examinations\n",
       "\t+ Specific subject prerequisites\n",
       "\t+ Certain grade requirements\n",
       "\n",
       "It is crucial to consult the RUPP website or admissions office for details on specific programs and their respective admission criteria."
      ],
      "text/plain": [
       "<IPython.core.display.Markdown object>"
      ]
     },
     "metadata": {},
     "output_type": "display_data"
    }
   ],
   "source": [
    "chat_with_bot(\"What are the admission requirements for RUPP\")"
   ]
  },
  {
   "cell_type": "code",
   "execution_count": 29,
   "metadata": {},
   "outputs": [
    {
     "data": {
      "text/markdown": [
       "The admission requirements for the University of Health Sciences (UHS) vary depending on the specific program of study. However, generally, the following requirements are applicable:\n",
       "\n",
       "1. Completion of upper secondary education (high school)\n",
       "2. Entrance examinations that assess aptitude for health sciences\n",
       "3. Specific grade requirements or minimum scores in relevant subjects (e.g., biology, chemistry, physics)\n",
       "4. Interviews may be part of the selection process for some programs.\n",
       "\n",
       "It is essential to check the UHS website or contact their admissions office for the precise and most current admission criteria for each program."
      ],
      "text/plain": [
       "<IPython.core.display.Markdown object>"
      ]
     },
     "metadata": {},
     "output_type": "display_data"
    }
   ],
   "source": [
    "chat_with_bot(\"What are the admission requirements for UHS\")"
   ]
  }
 ],
 "metadata": {
  "kernelspec": {
   "display_name": "venv",
   "language": "python",
   "name": "python3"
  },
  "language_info": {
   "codemirror_mode": {
    "name": "ipython",
    "version": 3
   },
   "file_extension": ".py",
   "mimetype": "text/x-python",
   "name": "python",
   "nbconvert_exporter": "python",
   "pygments_lexer": "ipython3",
   "version": "3.12.0"
  }
 },
 "nbformat": 4,
 "nbformat_minor": 2
}
