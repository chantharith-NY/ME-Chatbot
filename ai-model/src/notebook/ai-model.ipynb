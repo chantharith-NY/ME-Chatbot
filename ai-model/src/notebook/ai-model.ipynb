{
 "cells": [
  {
   "cell_type": "markdown",
   "metadata": {},
   "source": [
    "## Extract Text from PDF"
   ]
  },
  {
   "cell_type": "code",
   "execution_count": 8,
   "metadata": {},
   "outputs": [
    {
     "name": "stderr",
     "output_type": "stream",
     "text": [
      "Ignoring wrong pointing object 6 0 (offset 0)\n",
      "Ignoring wrong pointing object 8 0 (offset 0)\n",
      "Ignoring wrong pointing object 10 0 (offset 0)\n",
      "Ignoring wrong pointing object 13 0 (offset 0)\n",
      "Ignoring wrong pointing object 49 0 (offset 0)\n"
     ]
    },
    {
     "name": "stdout",
     "output_type": "stream",
     "text": [
      "Institute of Technology of Cambodia (ITC) Training Programs The Institute of Technology of Cambodia (ITC) offers a variety of training programs designed to enhance the skills and knowledge of students, professionals, and the broader community. Below is a comprehensive overview of some of the notable training initiatives provided by ITC.  1. Cambodia Energy Manager and Auditor Training Program (CEMAT) Overview: ITC collaborates with the United Nations Development Programme (UNDP) to offer the Cambodia Energy Manager and Auditor Training Program (CEMAT). This program equips participants with essential competencies in energy management and auditing. Key Highlights: • The inaugural training sessions were conducted in late 2023. • A total of 31 participants completed the first batch. • Trainees included government officials, academic professionals, and private sector representatives. • The training covers energy efficiency, auditing methodologies, and energy management best practices. For more details: itc.edu.kh  2. GIC Summer Training Program Overview: The Department of Information and Communication Technology (GIC) at ITC organizes annual summer training programs to enhance technical skills among students and professionals. Training Courses: • Basic Programming in C/C++: Introduction to fundamental programming concepts and logic. • Basic Web Development: Covers HTML, CSS, and JavaScript to build dynamic websites. • These courses are primarily for incoming GIC students but are open to the public. • Training is free and conducted by experienced GIC students. For more details: gic.itc.edu.kh  3. E-Learning Initiatives \n",
      "Overview: ITC’s e-Learning Center is dedicated to digital education and innovation. The institute actively participates in the ASEAN Cyber University (ACU) project. Key Highlights: • ITC was selected for the ASEAN Cyber University project initiated during the ASEAN – South Korea Summit in 2009. • The project aims to integrate digital learning into higher education institutions across the region. • Provides access to digital resources and online learning platforms. For more details: elearning.itc.edu.kh  4. Hydro-Geophysics Training Overview: As part of the PSF \"HGP Mekong\" project, ITC hosts the Hydro-Geophysics Training School, focusing on Electrical Resistivity Tomography (ERT) techniques for geophysical analysis. Key Highlights: • The second edition was held from March 6th to 10th, 2023. • Hands-on training in hydro-geophysics applications. • Participants gain practical experience in geophysical surveying techniques. For more details: itc.edu.kh  5. Research and Innovation Center (RIC) Training Overview: ITC’s Research and Innovation Center (RIC) provides specialized training programs focused on research methodologies and innovation. Key Highlights: • Designed for ITC students, faculty, and external researchers. • Covers research methodologies, innovation strategies, and project development. • Aims to foster a culture of research and innovation within the Cambodian academic community. For more details: ric.itc.edu.kh  Conclusion \n",
      "The Institute of Technology of Cambodia (ITC) is committed to advancing education and professional development through specialized training programs. Whether in energy management, information technology, geophysics, or digital learning, ITC continues to play a pivotal role in capacity building within Cambodia. For more information, visit ITC’s official website: itc.edu.kh  \n",
      "\n"
     ]
    }
   ],
   "source": [
    "from pypdf import PdfReader\n",
    "\n",
    "def extract_text_from_pdf(pdf_path):\n",
    "    reader = PdfReader(pdf_path)\n",
    "    text = \"\"\n",
    "    for page in reader.pages:\n",
    "        text += page.extract_text() + \"\\n\"\n",
    "    return text\n",
    "\n",
    "# Example usage\n",
    "pdf_text = extract_text_from_pdf(\"/Users/nychanthrith/Documents/Chantharith/ME-Chatbot/ai-model/data/raw_pdfs/Institute of Technology of Cambodia.pdf\")\n",
    "print(pdf_text)  # Print first 500 characters for checking"
   ]
  },
  {
   "cell_type": "markdown",
   "metadata": {},
   "source": [
    "## Train Ollama Model on Extracted Text"
   ]
  },
  {
   "cell_type": "code",
   "execution_count": 6,
   "metadata": {},
   "outputs": [
    {
     "name": "stdout",
     "output_type": "stream",
     "text": [
      "Based on the reference material provided, the following subjects are considered important for admission to the Institute of Technology of Cambodia (ITC):\n",
      "\n",
      "1. Basic Programming in C/C++: This subject is crucial for understanding fundamental programming concepts and logic, which are essential skills for any IT-related field.\n",
      "2. Basic Web Development: This course covers HTML, CSS, and JavaScript, which are fundamental technologies for building dynamic websites and web applications.\n",
      "3. E-Learning Initiatives: As ITC's e-Learning Center is dedicated to digital education and innovation, knowledge of these subjects can provide a solid foundation for pursuing higher education in the field of information and communication technology (ICT).\n",
      "4. Other subjects such as energy management, auditing methodologies, and energy management best practices are also important for those interested in pursuing training programs offered by ITC, particularly the Cambodia Energy Manager and Auditor Training Program (CEMAT).\n",
      "\n",
      "It's worth noting that admission requirements may vary depending on the program or course you're applying to at ITC. Therefore, it's essential to check the specific admission criteria for each program before applying.\n"
     ]
    }
   ],
   "source": [
    "import ollama\n",
    "\n",
    "response = ollama.chat(model=\"llama2:7b\", messages=[\n",
    "    {\"role\": \"system\", \"content\": \"You are an ITC chatbot trained on ITC-related documents.\"},\n",
    "    {\"role\": \"user\", \"content\": f\"Here is some reference material:\\n{pdf_text[:2000]}\\n\\nNow answer: What subjects are important for ITC admission?\"}\n",
    "])\n",
    "\n",
    "print(response[\"message\"][\"content\"])\n"
   ]
  },
  {
   "cell_type": "code",
   "execution_count": 7,
   "metadata": {},
   "outputs": [
    {
     "name": "stdout",
     "output_type": "stream",
     "text": [
      "🧠 ITC Chatbot is ready! Type 'exit' to quit.\n",
      "\n",
      "Chatbot: Hi there! As an ITC chatbot, I'm here to help you with any questions or information you need about Institute of Technology of Cambodia (ITC) training programs. Based on the reference material provided, here are some key points:\n",
      "\n",
      "1. Cambodia Energy Manager and Auditor Training Program (CEMAT): This program is a collaboration between ITC and UNDP that equips participants with essential competencies in energy management and auditing. The training covers energy efficiency, auditing methodologies, and energy management best practices.\n",
      "2. GIC Summer Training Program: The Department of Information and Communication Technology (GIC) at ITC organizes an annual summer training program to enhance technical skills among students and professionals. The courses cover basic programming in C/C++, basic web development, and other topics.\n",
      "3. E-Learning Initiatives: ITC's e-Learning Center is dedicated to digital education and innovation, and the institute actively participates in the ASEAN Cyber University (ACU) project. This project aims to integrate digital learning into higher education in ASEAN member countries.\n",
      "If you have any specific questions or need further information on these topics, feel free to ask!\n",
      "Chatbot: Based on the provided reference material, it appears that ITC stands for Institute of Technology of Cambodia. This is confirmed by the following statements in the material:\n",
      "\n",
      "* \"The Institute of Technology of Cambodia (ITC) offers a variety of training programs designed to enhance the skills and knowledge of students, professionals, and the broader community.\"\n",
      "* \"ITC collaborates with the United Nations Development Programme (UNDP) to offer the Cambodia Energy Manager and Auditor Training Program (CEMAT).\"\n",
      "* \"The Department of Information and Communication Technology (GIC) at ITC organizes annual summer training programs to enhance technical skills among students and professionals.\"\n",
      "\n",
      "Therefore, ITC stands for Institute of Technology of Cambodia.\n",
      "Chatbot: Goodbye! 👋\n"
     ]
    }
   ],
   "source": [
    "# Start chatbot loop\n",
    "print(\"🧠 ITC Chatbot is ready! Type 'exit' to quit.\\n\")\n",
    "\n",
    "while True:\n",
    "    user_query = input(\"You: \")  # Get user input\n",
    "    \n",
    "    if user_query.lower() == \"exit\":\n",
    "        print(\"Chatbot: Goodbye! 👋\")\n",
    "        break  # Exit the loop\n",
    "\n",
    "    # Send the user query to Ollama with PDF content as context\n",
    "    response = ollama.chat(model=\"llama2:7b\", messages=[\n",
    "        {\"role\": \"system\", \"content\": \"You are an ITC chatbot trained on ITC-related documents.\"},\n",
    "        {\"role\": \"user\", \"content\": f\"Here is some reference material:\\n{pdf_text[:2000]}\\n\\nNow answer: {user_query}\"}\n",
    "    ])\n",
    "\n",
    "    print(\"Chatbot:\", response[\"message\"][\"content\"])  # Print chatbot response"
   ]
  },
  {
   "cell_type": "code",
   "execution_count": 9,
   "metadata": {},
   "outputs": [
    {
     "name": "stdout",
     "output_type": "stream",
     "text": [
      "\n",
      "Greetings! As an ITC chatbot, I'm glad to assist you with any questions or queries related to ITC. The Cambodia Energy Manager and Auditor Training Program is a comprehensive training initiative designed for energy managers and auditors in Cambodia. The program aims to enhance the knowledge and skills of these professionals in the field of energy management and auditing, with a focus on sustainable energy practices and energy efficiency.\n",
      "\n",
      "The program covers various aspects of energy management and auditing, including energy conservation techniques, energy-efficient technologies, energy audits, and energy reporting. It also provides hands-on training on energy-related software tools and equipment. The program is designed to improve the capacities of energy managers and auditors in Cambodia to manage energy efficiently and effectively, and to promote sustainable energy practices in the country.\n",
      "\n",
      "The program consists of several modules, including:\n",
      "\n",
      "1. Introduction to Energy Management and Auditing\n",
      "2. Energy Conservation Techniques and Strategies\n",
      "3. Energy-Efficient Technologies and Equipment\n",
      "4. Energy Audits and Reporting\n",
      "5. Energy Management Systems and Software Tools\n",
      "6. Energy Regulations and Policies in Cambodia\n",
      "7. Case Studies and Group Discussions\n",
      "\n",
      "The program is delivered through a combination of lectures, workshops, and hands-on training sessions. It is designed to be interactive and practical, with a focus on real-world applications of energy management and auditing principles. The program duration is typically 4-6 weeks, depending on the specific needs of the participants and the organization they represent.\n",
      "\n",
      "The Cambodia Energy Manager and Auditor Training Program is an excellent opportunity for professionals in Cambodia to enhance their knowledge and skills in the field of energy management and auditing. By participating in this program, participants can gain a deeper understanding of sustainable energy practices and contribute to the development of a more energy-efficient and sustainable economy in Cambodia.\n"
     ]
    }
   ],
   "source": [
    "import ollama\n",
    "\n",
    "response = ollama.chat(model=\"custom_itc_bot\", messages=[\n",
    "    {\"role\": \"user\", \"content\": \"What is the Cambodia Energy Manager and Auditor Training Program?\"}\n",
    "])\n",
    "\n",
    "print(response[\"message\"][\"content\"])\n"
   ]
  },
  {
   "cell_type": "code",
   "execution_count": 13,
   "metadata": {},
   "outputs": [
    {
     "name": "stdout",
     "output_type": "stream",
     "text": [
      "Thank you for asking! The Institute of Technology of Cambodia (ITC) is a leading institution of higher education in Cambodia, established in 1965. ITC offers undergraduate and graduate programs in a variety of fields, including engineering, computer science, business administration, and more.\n",
      "\n",
      "ITC has a strong reputation for providing high-quality education, with a focus on practical training and hands-on experience. The institute has a diverse student body and faculty, with a commitment to promoting social responsibility and community engagement. ITC also has partnerships with several international universities and organizations, providing students with opportunities for exchange programs and research collaborations.\n",
      "\n",
      "In addition to its academic programs, ITC is also involved in various research projects and community outreach initiatives, aimed at addressing some of the social and economic challenges facing Cambodia. These include projects related to renewable energy, water resource management, and sustainable agriculture, among others.\n",
      "\n",
      "Overall, the Institute of Technology of Cambodia is a highly respected institution in the country, known for its commitment to innovation, excellence, and community engagement.\n"
     ]
    }
   ],
   "source": [
    "# Define function to query the model\n",
    "def query_chatbot(query: str):\n",
    "    response = ollama.chat(model=\"custom_itc_bot\", messages=[\n",
    "        {\"role\": \"user\", \"content\": query}\n",
    "    ])\n",
    "    return response[\"message\"][\"content\"]\n",
    "\n",
    "# Example query\n",
    "query = \"What is institute of technology of cambodia?\"\n",
    "print(query_chatbot(query))"
   ]
  },
  {
   "cell_type": "code",
   "execution_count": null,
   "metadata": {},
   "outputs": [],
   "source": []
  }
 ],
 "metadata": {
  "kernelspec": {
   "display_name": "venv",
   "language": "python",
   "name": "python3"
  },
  "language_info": {
   "codemirror_mode": {
    "name": "ipython",
    "version": 3
   },
   "file_extension": ".py",
   "mimetype": "text/x-python",
   "name": "python",
   "nbconvert_exporter": "python",
   "pygments_lexer": "ipython3",
   "version": "3.12.0"
  }
 },
 "nbformat": 4,
 "nbformat_minor": 2
}
